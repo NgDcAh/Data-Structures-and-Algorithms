{
 "cells": [
  {
   "cell_type": "markdown",
   "id": "e7d73084",
   "metadata": {},
   "source": [
    "Tuple"
   ]
  },
  {
   "cell_type": "code",
   "execution_count": 1,
   "id": "796ece34",
   "metadata": {},
   "outputs": [],
   "source": [
    "# Cách 1: Dùng dấu ngoặc đơn\n",
    "t = (1, 2, 3)\n",
    "\n",
    "# Cách 2: Không dùng dấu ngoặc (ít phổ biến)\n",
    "t = 1, 2, 3\n",
    "\n",
    "# Cách 3: Tuple 1 phần tử → phải có dấu phẩy\n",
    "t = (5,)        # đúng\n",
    "t = (5)         # sai → đây là int\n"
   ]
  },
  {
   "cell_type": "code",
   "execution_count": 2,
   "id": "f7dc3852",
   "metadata": {},
   "outputs": [
    {
     "name": "stdout",
     "output_type": "stream",
     "text": [
      "10\n",
      "30\n"
     ]
    }
   ],
   "source": [
    "t = (10, 20, 30)\n",
    "print(t[0])       # 10\n",
    "print(t[-1])      # 30\n"
   ]
  },
  {
   "cell_type": "code",
   "execution_count": 3,
   "id": "695d1a75",
   "metadata": {},
   "outputs": [
    {
     "name": "stdout",
     "output_type": "stream",
     "text": [
      "10\n",
      "20\n",
      "30\n",
      "10\n",
      "20\n",
      "30\n"
     ]
    }
   ],
   "source": [
    "for x in t:\n",
    "    print(x)\n",
    "\n",
    "# hoặc duyệt bằng chỉ số\n",
    "for i in range(len(t)):\n",
    "    print(t[i])\n"
   ]
  },
  {
   "cell_type": "code",
   "execution_count": 4,
   "id": "c279a85f",
   "metadata": {},
   "outputs": [
    {
     "name": "stdout",
     "output_type": "stream",
     "text": [
      "3\n"
     ]
    }
   ],
   "source": [
    "t = ((1, 2), (3, 4))\n",
    "print(t[1][0])    # 3\n"
   ]
  }
 ],
 "metadata": {
  "kernelspec": {
   "display_name": "Python 3",
   "language": "python",
   "name": "python3"
  },
  "language_info": {
   "codemirror_mode": {
    "name": "ipython",
    "version": 3
   },
   "file_extension": ".py",
   "mimetype": "text/x-python",
   "name": "python",
   "nbconvert_exporter": "python",
   "pygments_lexer": "ipython3",
   "version": "3.11.0"
  }
 },
 "nbformat": 4,
 "nbformat_minor": 5
}
