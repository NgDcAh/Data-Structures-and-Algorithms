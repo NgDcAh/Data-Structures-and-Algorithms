{
 "cells": [
  {
   "cell_type": "markdown",
   "id": "b24954dc",
   "metadata": {},
   "source": [
    "Dict"
   ]
  },
  {
   "cell_type": "code",
   "execution_count": 9,
   "id": "fdcef235",
   "metadata": {},
   "outputs": [],
   "source": [
    "# Cách 1: dùng dấu ngoặc nhọn\n",
    "person = {\n",
    "    \"name\": \"Alice\",\n",
    "    \"age\": 25,\n",
    "    \"city\": \"Tokyo\"\n",
    "}\n",
    "\n",
    "# Cách 2: dùng hàm dict()\n",
    "person = dict(name=\"Alice\", age=25, city=\"Tokyo\")\n"
   ]
  },
  {
   "cell_type": "code",
   "execution_count": 10,
   "id": "ad740b86",
   "metadata": {},
   "outputs": [
    {
     "name": "stdout",
     "output_type": "stream",
     "text": [
      "Alice\n",
      "25\n",
      "N/A\n"
     ]
    }
   ],
   "source": [
    "print(person[\"name\"])         # Alice\n",
    "print(person.get(\"age\"))      # 25\n",
    "print(person.get(\"gender\", \"N/A\"))  # N/A nếu không có key\n"
   ]
  },
  {
   "cell_type": "code",
   "execution_count": 11,
   "id": "83cd3c2f",
   "metadata": {},
   "outputs": [],
   "source": [
    "del person[\"city\"]            # xoá theo key\n",
    "job = person.pop(\"age\")       # xoá và trả về value\n",
    "#person.clear()                # xoá toàn bộ\n"
   ]
  },
  {
   "cell_type": "code",
   "execution_count": 12,
   "id": "8738ecf1",
   "metadata": {},
   "outputs": [
    {
     "name": "stdout",
     "output_type": "stream",
     "text": [
      "name\n",
      "name Alice\n",
      "Alice\n"
     ]
    }
   ],
   "source": [
    "# Duyệt key\n",
    "for key in person:\n",
    "    print(key)\n",
    "\n",
    "# Duyệt key, value\n",
    "for key, value in person.items():\n",
    "    print(key, value)\n",
    "\n",
    "# Duyệt chỉ value\n",
    "for value in person.values():\n",
    "    print(value)\n"
   ]
  },
  {
   "cell_type": "code",
   "execution_count": 13,
   "id": "ae3525eb",
   "metadata": {},
   "outputs": [
    {
     "name": "stdout",
     "output_type": "stream",
     "text": [
      "Alice\n"
     ]
    }
   ],
   "source": [
    "students = {\n",
    "    \"001\": {\"name\": \"Alice\", \"age\": 20},\n",
    "    \"002\": {\"name\": \"Bob\", \"age\": 21}\n",
    "}\n",
    "print(students[\"001\"][\"name\"])  # Alice"
   ]
  }
 ],
 "metadata": {
  "kernelspec": {
   "display_name": "Python 3",
   "language": "python",
   "name": "python3"
  },
  "language_info": {
   "codemirror_mode": {
    "name": "ipython",
    "version": 3
   },
   "file_extension": ".py",
   "mimetype": "text/x-python",
   "name": "python",
   "nbconvert_exporter": "python",
   "pygments_lexer": "ipython3",
   "version": "3.11.0"
  }
 },
 "nbformat": 4,
 "nbformat_minor": 5
}
