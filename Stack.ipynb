{
 "cells": [
  {
   "cell_type": "markdown",
   "id": "062a86cd",
   "metadata": {},
   "source": [
    "Mô tả:\n",
    "Cho một mảng nums, với mỗi phần tử nums[i], hãy tìm phần tử gần nhất phía bên phải lớn hơn nó. Nếu không có thì ghi -1.\n",
    "\n",
    "Input:\n",
    "\n",
    "nums = [2, 1, 2, 4, 3]\n",
    "\n",
    "Output:\n",
    "\n",
    "[4, 2, 4, -1, -1]"
   ]
  },
  {
   "cell_type": "code",
   "execution_count": null,
   "id": "7e295949",
   "metadata": {},
   "outputs": [],
   "source": [
    "def nextGreaterElements(nums):\n",
    "    n = len(nums)\n",
    "    result = [-1] * n     # Khởi tạo kết quả toàn -1\n",
    "    stack = []            # Stack lưu các phần tử tiềm năng\n",
    "\n",
    "    # Duyệt từ phải sang trái\n",
    "    for i in range(n - 1, -1, -1):\n",
    "        current = nums[i]\n",
    "\n",
    "        # Loại bỏ những phần tử nhỏ hơn hoặc bằng current\n",
    "        while stack and stack[-1] <= current:\n",
    "            stack.pop()\n",
    "\n",
    "        # Nếu stack còn, đỉnh là phần tử lớn hơn gần nhất\n",
    "        if stack:\n",
    "            result[i] = stack[-1]\n",
    "\n",
    "        # Đẩy phần tử hiện tại vào stack\n",
    "        stack.append(current)\n",
    "\n",
    "    return result"
   ]
  }
 ],
 "metadata": {
  "kernelspec": {
   "display_name": "Python 3",
   "language": "python",
   "name": "python3"
  },
  "language_info": {
   "codemirror_mode": {
    "name": "ipython",
    "version": 3
   },
   "file_extension": ".py",
   "mimetype": "text/x-python",
   "name": "python",
   "nbconvert_exporter": "python",
   "pygments_lexer": "ipython3",
   "version": "3.11.0"
  }
 },
 "nbformat": 4,
 "nbformat_minor": 5
}
