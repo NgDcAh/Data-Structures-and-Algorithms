{
 "cells": [
  {
   "cell_type": "markdown",
   "id": "66d5efe0",
   "metadata": {},
   "source": [
    "Hash table"
   ]
  },
  {
   "cell_type": "code",
   "execution_count": null,
   "id": "e6fc5e4c",
   "metadata": {},
   "outputs": [],
   "source": [
    "class HashTable:\n",
    "    def __init__(self, size=10):\n",
    "        self.size = size\n",
    "        self.table = [[] for _ in range(size)]  # mỗi ô là 1 danh sách con\n",
    "\n",
    "    def _hash(self, key):\n",
    "        return hash(key) % self.size\n",
    "\n",
    "    def insert(self, key, value):\n",
    "        idx = self._hash(key)\n",
    "        for pair in self.table[idx]:  # kiểm tra nếu key đã tồn tại\n",
    "            if pair[0] == key:\n",
    "                pair[1] = value       # cập nhật giá trị mới\n",
    "                return\n",
    "        self.table[idx].append([key, value])  # thêm mới nếu chưa có\n",
    "\n",
    "    def get(self, key):\n",
    "        idx = self._hash(key)\n",
    "        for pair in self.table[idx]:\n",
    "            if pair[0] == key:\n",
    "                return pair[1]\n",
    "        return None"
   ]
  },
  {
   "cell_type": "markdown",
   "id": "1e6011e0",
   "metadata": {},
   "source": [
    "Viết hàm word_count(s: str) để đếm số lần mỗi từ xuất hiện trong chuỗi s. \n",
    "\n",
    "s = \"to be or not to be\"\n",
    "→ {\"to\": 2, \"be\": 2, \"or\": 1, \"not\": 1}\n"
   ]
  },
  {
   "cell_type": "code",
   "execution_count": 5,
   "id": "3adce4ff",
   "metadata": {},
   "outputs": [],
   "source": [
    "def word_count(s: str):\n",
    "    new_s = s.split(\" \")\n",
    "    count_dict = {} \n",
    "    for word in new_s:\n",
    "        if word not in count_dict:\n",
    "            count_dict[word] = 1\n",
    "        else:\n",
    "            count_dict[word] += 1\n",
    "\n",
    "    return count_dict"
   ]
  },
  {
   "cell_type": "code",
   "execution_count": 6,
   "id": "1df2a3a0",
   "metadata": {},
   "outputs": [
    {
     "data": {
      "text/plain": [
       "{'to': 2, 'be': 2, 'or': 1, 'not': 1}"
      ]
     },
     "execution_count": 6,
     "metadata": {},
     "output_type": "execute_result"
    }
   ],
   "source": [
    "s = \"to be or not to be\"\n",
    "word_count(s)"
   ]
  },
  {
   "cell_type": "markdown",
   "id": "151d3eac",
   "metadata": {},
   "source": [
    "Cho 2 chuỗi s1, s2. Kiểm tra xem chúng có là hoán vị (anagram) của nhau không (cùng ký tự, khác thứ tự).\n",
    "\n",
    "Ví dụ:\n",
    "\n",
    "\"listen\" & \"silent\" → True\n",
    "\"hello\" & \"world\" → False"
   ]
  },
  {
   "cell_type": "code",
   "execution_count": null,
   "id": "b87a1cb9",
   "metadata": {},
   "outputs": [],
   "source": [
    "# def check_anagram(s1: str, s2: str) -> bool:\n",
    "#     return sorted(s1) == sorted(s2)\n",
    "\n",
    "def check_anagram(s1: str, s2: str) -> bool:\n",
    "    if len(s1) != len(s2):\n",
    "        return False\n",
    "\n",
    "    count = {}\n",
    "    for c in s1:\n",
    "        count[c] = count.get(c, 0) + 1\n",
    "    \n",
    "    print(count)\n",
    "\n",
    "    for c in s2:\n",
    "        if c not in count or count[c] == 0:\n",
    "            return False\n",
    "        count[c] -= 1\n",
    "\n",
    "    return True"
   ]
  },
  {
   "cell_type": "code",
   "execution_count": 18,
   "id": "537696c7",
   "metadata": {},
   "outputs": [
    {
     "name": "stdout",
     "output_type": "stream",
     "text": [
      "{'h': 1, 'e': 1, 'l': 2, 'o': 1}\n"
     ]
    },
    {
     "data": {
      "text/plain": [
       "False"
      ]
     },
     "execution_count": 18,
     "metadata": {},
     "output_type": "execute_result"
    }
   ],
   "source": [
    "s1 = \"hello\"\n",
    "s2 = \"world\"\n",
    "check_anagram(s1, s2)"
   ]
  },
  {
   "cell_type": "markdown",
   "id": "1eb8352c",
   "metadata": {},
   "source": [
    "Cho 1 list arr, hãy tìm phần tử xuất hiện nhiều nhất và số lần xuất hiện.\n",
    "\n",
    "Ví dụ:\n",
    "\n",
    "arr = [1, 3, 1, 3, 2, 1] → Output: (1, 3)"
   ]
  },
  {
   "cell_type": "code",
   "execution_count": null,
   "id": "466a7db0",
   "metadata": {},
   "outputs": [],
   "source": []
  },
  {
   "cell_type": "markdown",
   "id": "807eb5ed",
   "metadata": {},
   "source": [
    "Cho list số nguyên nums và 1 số target, hãy tìm 2 số có tổng bằng target (chỉ trả về chỉ số của chúng).\n",
    "\n",
    "Ví dụ:\n",
    "\n",
    "nums = [2, 7, 11, 15], target = 9  \n",
    "→ Output: [0, 1]"
   ]
  },
  {
   "cell_type": "markdown",
   "id": "703c79fb",
   "metadata": {},
   "source": [
    "Cho chuỗi s, hãy tìm độ dài chuỗi con dài nhất không có ký tự lặp lại.\n",
    "\n",
    "Ví dụ:\n",
    "\n",
    "\"abcabcbb\" → 3 (\"abc\")\n",
    "\"bbbbb\"    → 1\n",
    "\"pwwkew\"   → 3 (\"wke\")\n",
    "Gợi ý: dùng dict lưu vị trí xuất hiện gần nhất + kỹ thuật sliding window"
   ]
  },
  {
   "cell_type": "markdown",
   "id": "4abdae11",
   "metadata": {},
   "source": [
    "Cho mảng nums và số k, tìm số lượng dãy con liên tiếp có tổng bằng đúng k.\n",
    "\n",
    "Ví dụ:\n",
    "\n",
    "nums = [1, 1, 1], k = 2  \n",
    "→ Output: 2 ([1,1] và [1,1])"
   ]
  }
 ],
 "metadata": {
  "kernelspec": {
   "display_name": "Python 3",
   "language": "python",
   "name": "python3"
  },
  "language_info": {
   "codemirror_mode": {
    "name": "ipython",
    "version": 3
   },
   "file_extension": ".py",
   "mimetype": "text/x-python",
   "name": "python",
   "nbconvert_exporter": "python",
   "pygments_lexer": "ipython3",
   "version": "3.11.0"
  }
 },
 "nbformat": 4,
 "nbformat_minor": 5
}
