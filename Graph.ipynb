{
 "cells": [
  {
   "cell_type": "markdown",
   "id": "34391412",
   "metadata": {},
   "source": [
    "Adjancency List (Danh sách kề)"
   ]
  },
  {
   "cell_type": "code",
   "execution_count": null,
   "id": "63197763",
   "metadata": {},
   "outputs": [
    {
     "name": "stdout",
     "output_type": "stream",
     "text": [
      "{0: [1, 3], 1: [2], 2: [3]}\n"
     ]
    }
   ],
   "source": [
    "from collections import defaultdict\n",
    "\n",
    "graph = defaultdict(list)\n",
    "\n",
    "def add_edge(u, v):\n",
    "    graph[u].append(v)\n",
    "    graph[v].append(u)  # Nếu là đồ thị có hướng, bỏ dòng này\n",
    "\n",
    "add_edge(0, 1)\n",
    "add_edge(0, 3)\n",
    "add_edge(1, 2)\n",
    "add_edge(2, 3)\n",
    "\n",
    "print(dict(graph))"
   ]
  },
  {
   "cell_type": "markdown",
   "id": "19af6748",
   "metadata": {},
   "source": [
    "Adjacency Matrix (Ma trận kề)"
   ]
  },
  {
   "cell_type": "markdown",
   "id": "c6ba2c2a",
   "metadata": {},
   "source": [
    "Đồ thị có hướng:\n",
    "\n",
    "0 → 1\n",
    "↓    \n",
    "2 → 3\n",
    "\n",
    "Ma trận kề (Adjacency Matrix):\n",
    "\n",
    "\n",
    "    0 1 2 3\n",
    "0 [ 0 1 1 0 ]\n",
    "1 [ 0 0 0 0 ]\n",
    "2 [ 0 0 0 1 ]\n",
    "3 [ 0 0 0 0 ]"
   ]
  },
  {
   "cell_type": "code",
   "execution_count": 3,
   "id": "7dc64ab4",
   "metadata": {},
   "outputs": [
    {
     "name": "stdout",
     "output_type": "stream",
     "text": [
      "[0, 1, 1, 0]\n",
      "[0, 0, 0, 0]\n",
      "[0, 0, 0, 1]\n",
      "[0, 0, 0, 0]\n"
     ]
    }
   ],
   "source": [
    "V = 4  # số đỉnh\n",
    "adj_matrix = [[0]*V for _ in range(V)]\n",
    "\n",
    "def add_edge(u, v):\n",
    "    adj_matrix[u][v] = 1  # nếu là vô hướng thì thêm: adj_matrix[v][u] = 1\n",
    "\n",
    "add_edge(0, 1)\n",
    "add_edge(0, 2)\n",
    "add_edge(2, 3)\n",
    "\n",
    "# In ma trận\n",
    "for row in adj_matrix:\n",
    "    print(row)"
   ]
  }
 ],
 "metadata": {
  "kernelspec": {
   "display_name": "Python 3",
   "language": "python",
   "name": "python3"
  },
  "language_info": {
   "codemirror_mode": {
    "name": "ipython",
    "version": 3
   },
   "file_extension": ".py",
   "mimetype": "text/x-python",
   "name": "python",
   "nbconvert_exporter": "python",
   "pygments_lexer": "ipython3",
   "version": "3.11.8"
  }
 },
 "nbformat": 4,
 "nbformat_minor": 5
}
