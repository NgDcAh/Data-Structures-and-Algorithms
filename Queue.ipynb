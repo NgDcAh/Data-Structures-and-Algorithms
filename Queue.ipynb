{
 "cells": [
  {
   "cell_type": "markdown",
   "id": "f90fcb13",
   "metadata": {},
   "source": [
    "Queue"
   ]
  },
  {
   "cell_type": "code",
   "execution_count": 1,
   "id": "043c9e4c",
   "metadata": {},
   "outputs": [
    {
     "name": "stdout",
     "output_type": "stream",
     "text": [
      "10\n",
      "20\n",
      "False\n",
      "1\n"
     ]
    }
   ],
   "source": [
    "from queue import Queue\n",
    "\n",
    "q = Queue()\n",
    "\n",
    "# Thêm phần tử vào hàng đợi\n",
    "q.put(10)\n",
    "q.put(20)\n",
    "q.put(30)\n",
    "\n",
    "# Lấy phần tử ra khỏi hàng đợi\n",
    "print(q.get())  # 10\n",
    "print(q.get())  # 20\n",
    "\n",
    "# Kiểm tra hàng đợi rỗng không\n",
    "print(q.empty())  # False\n",
    "\n",
    "# Kích thước hàng đợi\n",
    "print(q.qsize())  # 1"
   ]
  },
  {
   "cell_type": "code",
   "execution_count": 2,
   "id": "9f59e1df",
   "metadata": {},
   "outputs": [
    {
     "name": "stdout",
     "output_type": "stream",
     "text": [
      "10\n",
      "20\n",
      "False\n"
     ]
    }
   ],
   "source": [
    "from collections import deque\n",
    "\n",
    "q = deque()\n",
    "\n",
    "# Thêm phần tử vào cuối hàng đợi\n",
    "q.append(10)\n",
    "q.append(20)\n",
    "q.append(30)\n",
    "\n",
    "# Lấy phần tử ra khỏi đầu hàng đợi\n",
    "print(q.popleft())  # 10\n",
    "print(q.popleft())  # 20\n",
    "\n",
    "# Kiểm tra hàng đợi rỗng không\n",
    "print(len(q) == 0)  # False"
   ]
  }
 ],
 "metadata": {
  "kernelspec": {
   "display_name": "Python 3",
   "language": "python",
   "name": "python3"
  },
  "language_info": {
   "codemirror_mode": {
    "name": "ipython",
    "version": 3
   },
   "file_extension": ".py",
   "mimetype": "text/x-python",
   "name": "python",
   "nbconvert_exporter": "python",
   "pygments_lexer": "ipython3",
   "version": "3.11.0"
  }
 },
 "nbformat": 4,
 "nbformat_minor": 5
}
