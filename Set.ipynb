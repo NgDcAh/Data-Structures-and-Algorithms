{
 "cells": [
  {
   "cell_type": "markdown",
   "id": "af1faa7c",
   "metadata": {},
   "source": [
    "Set"
   ]
  },
  {
   "cell_type": "code",
   "execution_count": 3,
   "id": "1fa81109",
   "metadata": {},
   "outputs": [],
   "source": [
    "# Cách 1: dùng dấu ngoặc nhọn\n",
    "s = {1, 2, 3}\n",
    "\n",
    "# Cách 2: dùng hàm set()\n",
    "s = set([1, 2, 2, 3])  # {1, 2, 3}\n"
   ]
  },
  {
   "cell_type": "code",
   "execution_count": 4,
   "id": "cb23f9da",
   "metadata": {},
   "outputs": [
    {
     "name": "stdout",
     "output_type": "stream",
     "text": [
      "1\n",
      "2\n",
      "3\n"
     ]
    }
   ],
   "source": [
    "for x in s:\n",
    "    print(x)  # thứ tự không đảm bảo"
   ]
  },
  {
   "cell_type": "code",
   "execution_count": 5,
   "id": "f4c54a44",
   "metadata": {},
   "outputs": [],
   "source": [
    "s.add(4)           # thêm 1 phần tử\n",
    "s.update([5, 6])   # thêm nhiều phần tử\n",
    "s.remove(2)        # xóa 2, nếu không có sẽ lỗi\n",
    "s.discard(10)      # xóa 10, nếu không có thì KHÔNG lỗi\n",
    "s.pop()            # xoá phần tử ngẫu nhiên\n",
    "s.clear()          # xoá toàn bộ\n"
   ]
  },
  {
   "cell_type": "code",
   "execution_count": 6,
   "id": "23d50f31",
   "metadata": {},
   "outputs": [
    {
     "name": "stdout",
     "output_type": "stream",
     "text": [
      "{1, 2, 3, 4}\n",
      "{2, 3}\n",
      "{1}\n",
      "{1, 4}\n"
     ]
    }
   ],
   "source": [
    "a = {1, 2, 3}\n",
    "b = {2, 3, 4}\n",
    "\n",
    "print(a | b)      # union        → {1, 2, 3, 4}\n",
    "print(a & b)      # intersection → {2, 3}\n",
    "print(a - b)      # difference   → {1}\n",
    "print(a ^ b)      # symmetric difference → {1, 4}\n"
   ]
  },
  {
   "cell_type": "code",
   "execution_count": 7,
   "id": "a0822033",
   "metadata": {},
   "outputs": [
    {
     "name": "stdout",
     "output_type": "stream",
     "text": [
      "True\n",
      "True\n",
      "True\n"
     ]
    }
   ],
   "source": [
    "a = {1, 2}\n",
    "b = {1, 2, 3}\n",
    "\n",
    "print(a.issubset(b))      # True\n",
    "print(b.issuperset(a))    # True\n",
    "print(a.isdisjoint({4}))  # True (không giao nhau)\n"
   ]
  },
  {
   "cell_type": "code",
   "execution_count": 8,
   "id": "664aab45",
   "metadata": {},
   "outputs": [],
   "source": [
    "fs = frozenset([1, 2, 3])\n",
    "# fs.add(4) ❌ lỗi vì frozenset là immutable"
   ]
  }
 ],
 "metadata": {
  "kernelspec": {
   "display_name": "Python 3",
   "language": "python",
   "name": "python3"
  },
  "language_info": {
   "codemirror_mode": {
    "name": "ipython",
    "version": 3
   },
   "file_extension": ".py",
   "mimetype": "text/x-python",
   "name": "python",
   "nbconvert_exporter": "python",
   "pygments_lexer": "ipython3",
   "version": "3.11.0"
  }
 },
 "nbformat": 4,
 "nbformat_minor": 5
}
