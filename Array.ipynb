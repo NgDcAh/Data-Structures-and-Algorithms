{
 "cells": [
  {
   "cell_type": "markdown",
   "id": "df417901",
   "metadata": {},
   "source": [
    "ARRAY"
   ]
  },
  {
   "cell_type": "code",
   "execution_count": 19,
   "id": "a7a04bdc",
   "metadata": {},
   "outputs": [
    {
     "name": "stdout",
     "output_type": "stream",
     "text": [
      "1\n",
      "4\n"
     ]
    }
   ],
   "source": [
    "arr = [1, 2, 3, 4]\n",
    "print(arr[0])    # 1\n",
    "print(arr[-1])   # 4 (phần tử cuối)"
   ]
  },
  {
   "cell_type": "code",
   "execution_count": 20,
   "id": "dc9d9a57",
   "metadata": {},
   "outputs": [
    {
     "name": "stdout",
     "output_type": "stream",
     "text": [
      "1\n",
      "2\n",
      "10\n",
      "4\n",
      "1\n",
      "2\n",
      "10\n",
      "4\n"
     ]
    }
   ],
   "source": [
    "# Cập nhật phần tử\n",
    "arr[2] = 10\n",
    "# duyệt\n",
    "for x in arr:\n",
    "    print(x)\n",
    "\n",
    "for i in range(len(arr)):\n",
    "    print(arr[i])"
   ]
  },
  {
   "cell_type": "code",
   "execution_count": 21,
   "id": "6fc529a7",
   "metadata": {},
   "outputs": [
    {
     "name": "stdout",
     "output_type": "stream",
     "text": [
      "[1, 100, 2, 10, 4, 5]\n"
     ]
    }
   ],
   "source": [
    "# Thêm phần tử\n",
    "arr.append(5)\n",
    "arr.insert(1, 100)\n",
    "print(arr)        # [1, 100, 2, 10, 4, 5]"
   ]
  },
  {
   "cell_type": "code",
   "execution_count": 22,
   "id": "291dd7d8",
   "metadata": {},
   "outputs": [
    {
     "name": "stdout",
     "output_type": "stream",
     "text": [
      "2\n",
      "[1, 100, 4, 5]\n"
     ]
    }
   ],
   "source": [
    "# Xóa phần tử\n",
    "arr.remove(10)         # Xoá theo giá trị\n",
    "print(arr.pop(2))      # Xoá theo chỉ số, trả về 2\n",
    "print(arr)             # [1, 100, 4, 5]"
   ]
  },
  {
   "cell_type": "code",
   "execution_count": 23,
   "id": "a6895e77",
   "metadata": {},
   "outputs": [
    {
     "name": "stdout",
     "output_type": "stream",
     "text": [
      "[5, 4, 100, 1]\n",
      "[1, 4, 5, 100]\n"
     ]
    }
   ],
   "source": [
    "# Đảo ngược và sắp xếp\n",
    "arr.reverse()\n",
    "print(arr)             # [5, 4, 100, 1]\n",
    "arr.sort()\n",
    "print(arr)             # [1, 4, 5, 100]"
   ]
  },
  {
   "cell_type": "code",
   "execution_count": 24,
   "id": "53cde844",
   "metadata": {},
   "outputs": [
    {
     "name": "stdout",
     "output_type": "stream",
     "text": [
      "1\n",
      "0\n"
     ]
    }
   ],
   "source": [
    "print(arr.count(1)) # Đếm lần xh\n",
    "print(arr.index(1)) # Tìm vị trí"
   ]
  }
 ],
 "metadata": {
  "kernelspec": {
   "display_name": "Python 3",
   "language": "python",
   "name": "python3"
  },
  "language_info": {
   "codemirror_mode": {
    "name": "ipython",
    "version": 3
   },
   "file_extension": ".py",
   "mimetype": "text/x-python",
   "name": "python",
   "nbconvert_exporter": "python",
   "pygments_lexer": "ipython3",
   "version": "3.11.0"
  }
 },
 "nbformat": 4,
 "nbformat_minor": 5
}
