{
 "cells": [
  {
   "cell_type": "markdown",
   "id": "16e4ec18",
   "metadata": {},
   "source": [
    "N-ary Tree"
   ]
  },
  {
   "cell_type": "code",
   "execution_count": 1,
   "id": "da3a21f1",
   "metadata": {},
   "outputs": [],
   "source": [
    "class Node:\n",
    "    def __init__(self, value):\n",
    "        self.value = value\n",
    "        self.children = []"
   ]
  },
  {
   "cell_type": "code",
   "execution_count": 2,
   "id": "1b1af0dd",
   "metadata": {},
   "outputs": [],
   "source": [
    "root = Node(1)\n",
    "node2 = Node(2)\n",
    "node3 = Node(3)\n",
    "node4 = Node(4)\n",
    "node5 = Node(5)\n",
    "node6 = Node(6)\n",
    "\n",
    "# Gắn các node con\n",
    "root.children = [node2, node3, node4]\n",
    "node3.children = [node5, node6]"
   ]
  },
  {
   "cell_type": "code",
   "execution_count": 4,
   "id": "f78126fa",
   "metadata": {},
   "outputs": [
    {
     "name": "stdout",
     "output_type": "stream",
     "text": [
      "1 2 3 5 6 4 "
     ]
    }
   ],
   "source": [
    "def preorder(node):\n",
    "    if not node:\n",
    "        return\n",
    "    print(node.value, end=' ')\n",
    "    for child in node.children:\n",
    "        preorder(child)\n",
    "        \n",
    "preorder(root)"
   ]
  }
 ],
 "metadata": {
  "kernelspec": {
   "display_name": "Python 3",
   "language": "python",
   "name": "python3"
  },
  "language_info": {
   "codemirror_mode": {
    "name": "ipython",
    "version": 3
   },
   "file_extension": ".py",
   "mimetype": "text/x-python",
   "name": "python",
   "nbconvert_exporter": "python",
   "pygments_lexer": "ipython3",
   "version": "3.11.0"
  }
 },
 "nbformat": 4,
 "nbformat_minor": 5
}
