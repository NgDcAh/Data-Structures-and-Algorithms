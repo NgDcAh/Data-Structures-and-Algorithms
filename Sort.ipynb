{
 "cells": [
  {
   "cell_type": "markdown",
   "id": "a186f9f3",
   "metadata": {},
   "source": [
    "Bubble Sort O(n²)"
   ]
  },
  {
   "cell_type": "code",
   "execution_count": 2,
   "id": "a112c272",
   "metadata": {},
   "outputs": [
    {
     "name": "stdout",
     "output_type": "stream",
     "text": [
      "[1, 2, 4, 7]\n"
     ]
    }
   ],
   "source": [
    "def bubble_sort(arr: list[int]):\n",
    "    for i in range(len(arr)):\n",
    "        for j in range(0, len(arr)-i-1):\n",
    "            if arr[j] > arr[j+1]:\n",
    "                arr[j], arr[j+1] = arr[j+1], arr[j]\n",
    "\n",
    "arr = [4,2,7,1]\n",
    "bubble_sort(arr)\n",
    "print(arr)\n"
   ]
  },
  {
   "cell_type": "markdown",
   "id": "cd8ced4d",
   "metadata": {},
   "source": [
    "Selection Sort O(n²)"
   ]
  },
  {
   "cell_type": "code",
   "execution_count": 3,
   "id": "28642756",
   "metadata": {},
   "outputs": [
    {
     "name": "stdout",
     "output_type": "stream",
     "text": [
      "[1, 2, 4, 7]\n"
     ]
    }
   ],
   "source": [
    "def selection_sort(arr: list[int]):\n",
    "    for i in range(len(arr)):\n",
    "        min_idx = i\n",
    "        for j in range(i+1, len(arr)):\n",
    "            if arr[j] < arr[min_idx]:\n",
    "                min_idx = j\n",
    "        arr[i], arr[min_idx] = arr[min_idx], arr[i]\n",
    "\n",
    "arr = [4,2,7,1]\n",
    "selection_sort(arr)\n",
    "print(arr)"
   ]
  },
  {
   "cell_type": "markdown",
   "id": "608c8a60",
   "metadata": {},
   "source": [
    "Insertion Sort\tO(n²)"
   ]
  },
  {
   "cell_type": "code",
   "execution_count": 4,
   "id": "d7b60965",
   "metadata": {},
   "outputs": [
    {
     "name": "stdout",
     "output_type": "stream",
     "text": [
      "[1, 2, 4, 7]\n"
     ]
    }
   ],
   "source": [
    "def insertion_sort(arr: list[int]):\n",
    "    for i in range(1, len(arr)):\n",
    "        key = arr[i]\n",
    "        j = i - 1\n",
    "        while j >= 0 and arr[j] > key:\n",
    "            arr[j+1] = arr[j]\n",
    "            j -= 1\n",
    "        arr[j+1] = key\n",
    "\n",
    "arr = [4,2,7,1]\n",
    "insertion_sort(arr)\n",
    "print(arr)"
   ]
  },
  {
   "cell_type": "markdown",
   "id": "2c5412d2",
   "metadata": {},
   "source": [
    "Merge Sort\tO(n log n)"
   ]
  },
  {
   "cell_type": "code",
   "execution_count": 7,
   "id": "89d72904",
   "metadata": {},
   "outputs": [
    {
     "name": "stdout",
     "output_type": "stream",
     "text": [
      "[1, 2, 4, 7]\n"
     ]
    }
   ],
   "source": [
    "def merge_sort(arr):\n",
    "    # Trường hợp cơ bản: mảng chỉ có 0 hoặc 1 phần tử\n",
    "    if len(arr) <= 1:\n",
    "        return arr\n",
    "\n",
    "    # Bước 1: Chia mảng thành hai nửa\n",
    "    mid = len(arr) // 2\n",
    "    left_half = merge_sort(arr[:mid])   # đệ quy với nửa trái\n",
    "    right_half = merge_sort(arr[mid:])  # đệ quy với nửa phải\n",
    "\n",
    "    # Bước 2: Trộn hai nửa đã sắp xếp lại\n",
    "    return merge(left_half, right_half)\n",
    "\n",
    "def merge(left, right):\n",
    "    result = []\n",
    "    i = j = 0\n",
    "\n",
    "    # So sánh từng phần tử và ghép theo thứ tự tăng dần\n",
    "    while i < len(left) and j < len(right):\n",
    "        if left[i] <= right[j]:\n",
    "            result.append(left[i])\n",
    "            i += 1\n",
    "        else:\n",
    "            result.append(right[j])\n",
    "            j += 1\n",
    "\n",
    "    # Nếu còn phần tử nào chưa ghép, thêm vào\n",
    "    result.extend(left[i:])\n",
    "    result.extend(right[j:])\n",
    "    return result\n",
    "\n",
    "arr = [4,2,7,1]\n",
    "result = merge_sort(arr)\n",
    "print(result)"
   ]
  },
  {
   "cell_type": "markdown",
   "id": "5d5bf063",
   "metadata": {},
   "source": [
    "Quick Sort\tO(n log n)"
   ]
  },
  {
   "cell_type": "code",
   "execution_count": 8,
   "id": "7af3321c",
   "metadata": {},
   "outputs": [
    {
     "name": "stdout",
     "output_type": "stream",
     "text": [
      "[1, 2, 4, 7]\n"
     ]
    }
   ],
   "source": [
    "def quick_sort(arr):\n",
    "    if len(arr) <= 1:\n",
    "        return arr  # mảng đã sắp xếp\n",
    "\n",
    "    pivot = arr[0]  # chọn phần tử đầu làm pivot\n",
    "    left = [x for x in arr[1:] if x < pivot]        # phần nhỏ hơn pivot\n",
    "    right = [x for x in arr[1:] if x >= pivot]      # phần lớn hơn hoặc bằng pivot\n",
    "\n",
    "    return quick_sort(left) + [pivot] + quick_sort(right)\n",
    "\n",
    "arr = [4,2,7,1]\n",
    "result = quick_sort(arr)\n",
    "print(result)"
   ]
  },
  {
   "cell_type": "markdown",
   "id": "2ee02230",
   "metadata": {},
   "source": [
    "Heap Sort\tO(n log n)"
   ]
  },
  {
   "cell_type": "code",
   "execution_count": null,
   "id": "711243d8",
   "metadata": {},
   "outputs": [],
   "source": [
    "def heapify(arr, n, i):\n",
    "    largest = i      # Gốc\n",
    "    left = 2 * i + 1\n",
    "    right = 2 * i + 2\n",
    "\n",
    "    # So sánh với con trái\n",
    "    if left < n and arr[left] > arr[largest]:\n",
    "        largest = left\n",
    "\n",
    "    # So sánh với con phải\n",
    "    if right < n and arr[right] > arr[largest]:\n",
    "        largest = right\n",
    "\n",
    "    # Nếu có phần tử lớn hơn gốc, hoán đổi và đệ quy\n",
    "    if largest != i:\n",
    "        arr[i], arr[largest] = arr[largest], arr[i]\n",
    "        heapify(arr, n, largest)\n",
    "\n",
    "def heap_sort(arr):\n",
    "    n = len(arr)\n",
    "\n",
    "    # Bước 1: Xây Max-Heap (heapify từ dưới lên)\n",
    "    for i in range(n // 2 - 1, -1, -1):\n",
    "        heapify(arr, n, i)\n",
    "\n",
    "    # Bước 2: Trích max và heapify lại\n",
    "    for i in range(n - 1, 0, -1):\n",
    "        arr[0], arr[i] = arr[i], arr[0]  # Đưa max về cuối\n",
    "        heapify(arr, i, 0)               # heapify phần còn lại\n",
    "\n",
    "    return arr\n"
   ]
  },
  {
   "cell_type": "markdown",
   "id": "648fe697",
   "metadata": {},
   "source": [
    "Counting Sort\tO(n + k)"
   ]
  },
  {
   "cell_type": "code",
   "execution_count": null,
   "id": "964e7ede",
   "metadata": {},
   "outputs": [],
   "source": [
    "def counting_sort(arr):\n",
    "    if not arr:\n",
    "        return []\n",
    "\n",
    "    max_val = max(arr)  # Tìm số lớn nhất để biết cần bao nhiêu ô\n",
    "    count = [0] * (max_val + 1)  # Tạo mảng đếm\n",
    "\n",
    "    # Bước 1: Đếm số lần xuất hiện\n",
    "    for num in arr:\n",
    "        count[num] += 1\n",
    "\n",
    "    # Bước 2: Tạo mảng đã sắp xếp từ mảng count\n",
    "    output = []\n",
    "    for value in range(len(count)):\n",
    "        for _ in range(count[value]):\n",
    "            output.append(value)\n",
    "\n",
    "    return output"
   ]
  },
  {
   "cell_type": "markdown",
   "id": "a526abb0",
   "metadata": {},
   "source": [
    "Radix Sort\tO(nk)"
   ]
  },
  {
   "cell_type": "markdown",
   "id": "3ed7f27a",
   "metadata": {},
   "source": [
    "Bucket Sort\tO(n + k)"
   ]
  },
  {
   "cell_type": "markdown",
   "id": "88d64d41",
   "metadata": {},
   "source": [
    "Shell Sort\tO(n log n)"
   ]
  }
 ],
 "metadata": {
  "kernelspec": {
   "display_name": "Python 3",
   "language": "python",
   "name": "python3"
  },
  "language_info": {
   "codemirror_mode": {
    "name": "ipython",
    "version": 3
   },
   "file_extension": ".py",
   "mimetype": "text/x-python",
   "name": "python",
   "nbconvert_exporter": "python",
   "pygments_lexer": "ipython3",
   "version": "3.11.8"
  }
 },
 "nbformat": 4,
 "nbformat_minor": 5
}
